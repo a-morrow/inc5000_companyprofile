{
 "cells": [
  {
   "cell_type": "code",
   "execution_count": 215,
   "metadata": {
    "collapsed": true,
    "pycharm": {
     "name": "#%%\n"
    }
   },
   "outputs": [],
   "source": [
    "# Packages\n",
    "import requests, time, pandas as pd"
   ]
  },
  {
   "cell_type": "code",
   "execution_count": 236,
   "outputs": [],
   "source": [
    "# Global Variables\n",
    "inc5000_url = \"https://api.inc.com/rest/companyprofile/\"\n",
    "payload = \"\"\n",
    "headers = {\"cookie\": \"datadome=Z2il5N77MvwvffGojCx_2gvbXbTa-r2KgIOZ-GXA888eiFxK0MELmBs2akHERnMYnXaQ.l7zW8o-COaJA07abbgk4MTnj.9.0VGN-F~Te-7dmG6aUozOWJv6CSPZmQM; X-abtest=(null)\"}\n",
    "global_df = pd.DataFrame(columns = ['inc5000year','inc5000companyId','company_name',\n",
    "                                    'founded','ceo_name','website','industry','business_model',\n",
    "                                    'location','linkedin','twitter','facebook'])\n",
    "error_counter = 0\n",
    "error_log = []"
   ],
   "metadata": {
    "collapsed": false,
    "pycharm": {
     "name": "#%%\n"
    }
   }
  },
  {
   "cell_type": "code",
   "execution_count": 227,
   "outputs": [],
   "source": [
    "# Read in 2022 CSV file (Prior Extract of INC5000 Data in CSV format)\n",
    "inc_2022 = pd.read_csv(r'filepath')"
   ],
   "metadata": {
    "collapsed": false,
    "pycharm": {
     "name": "#%%\n"
    }
   }
  },
  {
   "cell_type": "code",
   "execution_count": 228,
   "outputs": [],
   "source": [
    "# Local Storage Path - Export final DF as CSV here\n",
    "local_storage_path = r'filepath'"
   ],
   "metadata": {
    "collapsed": false,
    "pycharm": {
     "name": "#%%\n"
    }
   }
  },
  {
   "cell_type": "code",
   "execution_count": 229,
   "outputs": [],
   "source": [
    "def extract_csv(csv_file):\n",
    "    company_ids = []\n",
    "    for k in csv_file['inc5000companyId']:\n",
    "        company_ids.append(str(k))\n",
    "    return company_ids"
   ],
   "metadata": {
    "collapsed": false,
    "pycharm": {
     "name": "#%%\n"
    }
   }
  },
  {
   "cell_type": "code",
   "execution_count": 230,
   "outputs": [],
   "source": [
    "def extract_transform_api(inc_id):\n",
    "\n",
    "    global error_counter\n",
    "    results = []\n",
    "    url = inc5000_url + str(inc_id)\n",
    "    response = requests.request(\"GET\", url, data=payload, headers=headers)\n",
    "    data = response.json()\n",
    "\n",
    "    for i in data['profiles']:\n",
    "        try:\n",
    "            if i['inc5000companyId'] == inc_id:\n",
    "                #print('inc5000 extract: ',i['inc5000companyId'])\n",
    "                location = {'state': i['state_l'], 'city':i['ifc_city'],'zipcode':i['zipcode']}\n",
    "                company_info = {\n",
    "                'inc5000year' : 2022,\n",
    "                'inc5000companyId': i['inc5000companyId'],\n",
    "                'company_name' : i['ifc_company'],\n",
    "                'founded' : i['founded'],\n",
    "                'ceo_name': i['ifc_ceo_name'],\n",
    "                'website': i['ifc_url'],\n",
    "                'industry' : i['ifi_industry'],\n",
    "                'business_model' : i['ifc_business_model'],\n",
    "                'location' : location,\n",
    "                'linkedin': i['ifc_linkedin_address'],\n",
    "                'twitter': i['ifc_twitter_handle'],\n",
    "                'facebook': i['ifc_facebook_address']\n",
    "            }\n",
    "                results.append(company_info)\n",
    "        except KeyError:\n",
    "            error_log.append({'id':inc_id})\n",
    "            error_counter += 1\n",
    "            print('Error Count: ', error_counter)\n",
    "            continue\n",
    "        finally:\n",
    "            continue\n",
    "\n",
    "    df = pd.DataFrame.from_dict(results)\n",
    "\n",
    "    return df"
   ],
   "metadata": {
    "collapsed": false,
    "pycharm": {
     "name": "#%%\n"
    }
   }
  },
  {
   "cell_type": "code",
   "execution_count": 232,
   "outputs": [],
   "source": [
    "def load_csv(df):\n",
    "    print('Load CSV started...')\n",
    "    df.to_csv(local_storage_path,index=False,header=True)\n",
    "    print('CSV created...')"
   ],
   "metadata": {
    "collapsed": false,
    "pycharm": {
     "name": "#%%\n"
    }
   }
  },
  {
   "cell_type": "code",
   "execution_count": 237,
   "outputs": [],
   "source": [
    "def avg_duration(l):\n",
    "    total = 0\n",
    "    duration_len = len(l)\n",
    "    for j in l:\n",
    "        total += int(j)\n",
    "    avg_time = round((total/duration_len),2)\n",
    "\n",
    "    return avg_time"
   ],
   "metadata": {
    "collapsed": false,
    "pycharm": {
     "name": "#%%\n"
    }
   }
  },
  {
   "cell_type": "code",
   "execution_count": 242,
   "outputs": [],
   "source": [
    "def main():\n",
    "\n",
    "    results = []\n",
    "    duration_log = []\n",
    "\n",
    "    company_ids = extract_csv(inc_2022)\n",
    "    progress = 0\n",
    "    length = len(company_ids)\n",
    "    start_time = time.time()\n",
    "    total_duration = 0\n",
    "    for k in company_ids:\n",
    "        new_str = k.strip()\n",
    "        results.append(extract_transform_api(new_str))\n",
    "        progress += 1\n",
    "        if progress%50 == 0:\n",
    "            end_time = time.time()\n",
    "            duration = round((end_time - start_time),2)\n",
    "            total_duration += duration\n",
    "            total_duration_m = round(total_duration/60,2)\n",
    "            start_time = end_time\n",
    "            duration_log.append(int(duration))\n",
    "            duration_average = avg_duration(duration_log)\n",
    "            # Average Duration / Duration per 50 rows extracted\n",
    "            print(f'Duration (s): {duration} -- Average Duration (s): {duration_average} -- Total Duration (m): {total_duration_m}\\n'\n",
    "                  f'Count: {progress} -- Completion(%): {(round((progress/length),2)*100)}\\n')\n",
    "\n",
    "    results.append(global_df)\n",
    "    final = pd.concat(results, ignore_index=True)\n",
    "    load_csv(final)\n",
    "\n",
    "    print('Done')"
   ],
   "metadata": {
    "collapsed": false,
    "pycharm": {
     "name": "#%%\n"
    }
   }
  },
  {
   "cell_type": "code",
   "execution_count": 243,
   "outputs": [
    {
     "name": "stdout",
     "output_type": "stream",
     "text": [
      "Duration (s): 4.91 -- Average Duration (s): 4.0 -- Total Duration (m): 0.08\n",
      "Count: 50 -- Completion(%): 1.0\n",
      "Duration (s): 3.01 -- Average Duration (s): 3.5 -- Total Duration (m): 0.13\n",
      "Count: 100 -- Completion(%): 2.0\n",
      "Duration (s): 3.98 -- Average Duration (s): 3.33 -- Total Duration (m): 0.2\n",
      "Count: 150 -- Completion(%): 3.0\n",
      "Duration (s): 2.92 -- Average Duration (s): 3.0 -- Total Duration (m): 0.25\n",
      "Count: 200 -- Completion(%): 4.0\n",
      "Duration (s): 2.91 -- Average Duration (s): 2.8 -- Total Duration (m): 0.3\n",
      "Count: 250 -- Completion(%): 5.0\n",
      "Duration (s): 46.98 -- Average Duration (s): 10.0 -- Total Duration (m): 1.08\n",
      "Count: 300 -- Completion(%): 6.0\n"
     ]
    }
   ],
   "source": [
    "main()"
   ],
   "metadata": {
    "collapsed": false,
    "pycharm": {
     "name": "#%%\n"
    }
   }
  },
  {
   "cell_type": "code",
   "execution_count": 189,
   "outputs": [
    {
     "name": "stdout",
     "output_type": "stream",
     "text": [
      "7\n",
      "[{'id': '145183'}, {'id': '145179'}, {'id': '135699'}, {'id': '135695'}, {'id': '135691'}, {'id': '135687'}, {'id': '88050'}]\n"
     ]
    }
   ],
   "source": [
    "# Preview / Log Errors\n",
    "error_df = pd.DataFrame(error_log)\n",
    "error_df.to_csv(r'filepath', index=False)\n",
    "print(error_counter)\n",
    "print(error_log)"
   ],
   "metadata": {
    "collapsed": false,
    "pycharm": {
     "name": "#%%\n"
    }
   }
  }
 ],
 "metadata": {
  "kernelspec": {
   "display_name": "Python 3",
   "language": "python",
   "name": "python3"
  },
  "language_info": {
   "codemirror_mode": {
    "name": "ipython",
    "version": 2
   },
   "file_extension": ".py",
   "mimetype": "text/x-python",
   "name": "python",
   "nbconvert_exporter": "python",
   "pygments_lexer": "ipython2",
   "version": "2.7.6"
  }
 },
 "nbformat": 4,
 "nbformat_minor": 0
}
